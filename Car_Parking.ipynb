{
  "cells": [
    {
      "cell_type": "markdown",
      "metadata": {
        "id": "view-in-github",
        "colab_type": "text"
      },
      "source": [
        "<a href=\"https://colab.research.google.com/github/Nirajdiwan45/Car-Parking-Booking/blob/main/Car_Parking.ipynb\" target=\"_parent\"><img src=\"https://colab.research.google.com/assets/colab-badge.svg\" alt=\"Open In Colab\"/></a>"
      ]
    },
    {
      "cell_type": "code",
      "execution_count": null,
      "metadata": {
        "id": "tW68UYhUHMEv"
      },
      "outputs": [],
      "source": [
        "pip install opencv-python"
      ]
    },
    {
      "cell_type": "code",
      "execution_count": null,
      "metadata": {
        "id": "4jx1NNDkHROL",
        "collapsed": true
      },
      "outputs": [],
      "source": [
        "import cv2\n",
        "import numpy as np\n",
        "import pickle\n",
        "from google.colab.patches import cv2_imshow\n",
        "\n",
        "rectW, rectH = 107, 48\n",
        "\n",
        "cap = cv2.VideoCapture('/content/img.png')\n",
        "\n",
        "with open('CarParkPos', 'rb') as f:\n",
        "    posList = pickle.load(f)\n",
        "\n",
        "frame_counter = 0\n",
        "\n",
        "# Initialize the background subtractor\n",
        "bg_subtractor = cv2.createBackgroundSubtractorMOG2(history=500, varThreshold=50, detectShadows=False)\n",
        "\n",
        "def check(imgPro, img):\n",
        "    spaceCount = 0\n",
        "    for pos in posList:\n",
        "        x, y = pos\n",
        "        crop = imgPro[y:y+rectH, x:x+rectW]\n",
        "        count = cv2.countNonZero(crop)\n",
        "        if count < 900:\n",
        "            spaceCount += 1\n",
        "            color = (0, 255, 0)\n",
        "            thick = 5\n",
        "        else:\n",
        "            color = (0, 0, 255)\n",
        "            thick = 2\n",
        "\n",
        "        cv2.rectangle(img, pos, (x + rectW, y + rectH), color, thick)\n",
        "    cv2.rectangle(img, (45, 30), (250, 75), (180, 0, 180), -1)\n",
        "    cv2.putText(img, f'Free: {spaceCount}/{len(posList)}', (50, 60), cv2.FONT_HERSHEY_SIMPLEX, 0.9, (255, 255, 255), 2)\n",
        "\n",
        "while True:\n",
        "    ret, img = cap.read()\n",
        "    if not ret:\n",
        "        break\n",
        "\n",
        "    if frame_counter == cap.get(cv2.CAP_PROP_FRAME_COUNT):\n",
        "        frame_counter = 0\n",
        "        cap.set(cv2.CAP_PROP_POS_FRAMES, 0)\n",
        "\n",
        "    # Apply background subtraction\n",
        "    fg_mask = bg_subtractor.apply(img)\n",
        "\n",
        "    # Apply some morphological operations to improve the foreground mask\n",
        "    kernel = np.ones((3, 3), np.uint8)\n",
        "    fg_mask = cv2.morphologyEx(fg_mask, cv2.MORPH_OPEN, kernel)\n",
        "    fg_mask = cv2.morphologyEx(fg_mask, cv2.MORPH_DILATE, kernel)\n",
        "\n",
        "    check(fg_mask, img)\n",
        "\n",
        "    cv2_imshow(img)\n",
        "    if cv2.waitKey(10) & 0xFF == ord('q'):\n",
        "        break\n",
        "\n",
        "cap.release()\n",
        "cv2.destroyAllWindows()\n"
      ]
    }
  ],
  "metadata": {
    "colab": {
      "provenance": [],
      "include_colab_link": true
    },
    "kernelspec": {
      "display_name": "Python 3",
      "name": "python3"
    },
    "language_info": {
      "name": "python"
    }
  },
  "nbformat": 4,
  "nbformat_minor": 0
}